{
  "nbformat": 4,
  "nbformat_minor": 0,
  "metadata": {
    "colab": {
      "provenance": [],
      "authorship_tag": "ABX9TyM2mxhgQvdjLJ+d3dKDp68w",
      "include_colab_link": true
    },
    "kernelspec": {
      "name": "python3",
      "display_name": "Python 3"
    },
    "language_info": {
      "name": "python"
    }
  },
  "cells": [
    {
      "cell_type": "markdown",
      "metadata": {
        "id": "view-in-github",
        "colab_type": "text"
      },
      "source": [
        "<a href=\"https://colab.research.google.com/github/Zerubabel-J/moonlight-energy-solutions-analysis/blob/task-2/EDA.ipynb\" target=\"_parent\"><img src=\"https://colab.research.google.com/assets/colab-badge.svg\" alt=\"Open In Colab\"/></a>"
      ]
    },
    {
      "cell_type": "code",
      "source": [
        "from google.colab import drive\n",
        "drive.mount(\"/content/drive\")"
      ],
      "metadata": {
        "colab": {
          "base_uri": "https://localhost:8080/"
        },
        "id": "9KmoZSpZ1vvN",
        "outputId": "ee90f02d-fe75-46e0-b7d2-1f88876dea05"
      },
      "execution_count": 3,
      "outputs": [
        {
          "output_type": "stream",
          "name": "stdout",
          "text": [
            "Mounted at /content/drive\n"
          ]
        }
      ]
    },
    {
      "cell_type": "code",
      "execution_count": 5,
      "metadata": {
        "colab": {
          "base_uri": "https://localhost:8080/"
        },
        "id": "1-ZzHCzO1BVK",
        "outputId": "de1e0135-6f0f-4c65-9748-85f017def447"
      },
      "outputs": [
        {
          "output_type": "stream",
          "name": "stdout",
          "text": [
            "<class 'pandas.core.frame.DataFrame'>\n",
            "RangeIndex: 525600 entries, 0 to 525599\n",
            "Data columns (total 19 columns):\n",
            " #   Column         Non-Null Count   Dtype  \n",
            "---  ------         --------------   -----  \n",
            " 0   Timestamp      525600 non-null  object \n",
            " 1   GHI            525600 non-null  float64\n",
            " 2   DNI            525600 non-null  float64\n",
            " 3   DHI            525600 non-null  float64\n",
            " 4   ModA           525600 non-null  float64\n",
            " 5   ModB           525600 non-null  float64\n",
            " 6   Tamb           525600 non-null  float64\n",
            " 7   RH             525600 non-null  float64\n",
            " 8   WS             525600 non-null  float64\n",
            " 9   WSgust         525600 non-null  float64\n",
            " 10  WSstdev        525600 non-null  float64\n",
            " 11  WD             525600 non-null  float64\n",
            " 12  WDstdev        525600 non-null  float64\n",
            " 13  BP             525600 non-null  int64  \n",
            " 14  Cleaning       525600 non-null  int64  \n",
            " 15  Precipitation  525600 non-null  float64\n",
            " 16  TModA          525600 non-null  float64\n",
            " 17  TModB          525600 non-null  float64\n",
            " 18  Comments       0 non-null       float64\n",
            "dtypes: float64(16), int64(2), object(1)\n",
            "memory usage: 76.2+ MB\n"
          ]
        }
      ],
      "source": [
        "import pandas as pd\n",
        "\n",
        "data = pd.read_csv(\"/content/drive/MyDrive/TenX/data/togo-dapaong_qc.csv\")\n",
        "data.info()\n"
      ]
    }
  ]
}